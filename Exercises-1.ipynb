{
 "cells": [
  {
   "cell_type": "code",
   "execution_count": 2,
   "metadata": {},
   "outputs": [],
   "source": [
    "%matplotlib inline\n",
    "import pandas as pd"
   ]
  },
  {
   "cell_type": "code",
   "execution_count": 3,
   "metadata": {},
   "outputs": [
    {
     "data": {
      "text/html": [
       "<style>body {\n",
       "    margin: 0;\n",
       "    font-family: Helvetica;\n",
       "}\n",
       "table.dataframe {\n",
       "    border-collapse: collapse;\n",
       "    border: none;\n",
       "}\n",
       "table.dataframe tr {\n",
       "    border: none;\n",
       "}\n",
       "table.dataframe td, table.dataframe th {\n",
       "    margin: 0;\n",
       "    border: 1px solid white;\n",
       "    padding-left: 0.25em;\n",
       "    padding-right: 0.25em;\n",
       "}\n",
       "table.dataframe th:not(:empty) {\n",
       "    background-color: #fec;\n",
       "    text-align: left;\n",
       "    font-weight: normal;\n",
       "}\n",
       "table.dataframe tr:nth-child(2) th:empty {\n",
       "    border-left: none;\n",
       "    border-right: 1px dashed #888;\n",
       "}\n",
       "table.dataframe td {\n",
       "    border: 2px solid #ccf;\n",
       "    background-color: #f4f4ff;\n",
       "}\n",
       "h3 {\n",
       "    color: white;\n",
       "    background-color: black;\n",
       "    padding: 0.5em;\n",
       "}\n",
       "</style>"
      ],
      "text/plain": [
       "<IPython.core.display.HTML object>"
      ]
     },
     "execution_count": 3,
     "metadata": {},
     "output_type": "execute_result"
    }
   ],
   "source": [
    "from IPython.core.display import HTML\n",
    "css = open('style-table.css').read() + open('style-notebook.css').read()\n",
    "HTML('<style>{}</style>'.format(css))"
   ]
  },
  {
   "cell_type": "code",
   "execution_count": 4,
   "metadata": {},
   "outputs": [
    {
     "data": {
      "text/html": [
       "<div>\n",
       "<style scoped>\n",
       "    .dataframe tbody tr th:only-of-type {\n",
       "        vertical-align: middle;\n",
       "    }\n",
       "\n",
       "    .dataframe tbody tr th {\n",
       "        vertical-align: top;\n",
       "    }\n",
       "\n",
       "    .dataframe thead th {\n",
       "        text-align: right;\n",
       "    }\n",
       "</style>\n",
       "<table border=\"1\" class=\"dataframe\">\n",
       "  <thead>\n",
       "    <tr style=\"text-align: right;\">\n",
       "      <th></th>\n",
       "      <th>title</th>\n",
       "      <th>year</th>\n",
       "    </tr>\n",
       "  </thead>\n",
       "  <tbody>\n",
       "    <tr>\n",
       "      <th>0</th>\n",
       "      <td>Kaakan</td>\n",
       "      <td>2015</td>\n",
       "    </tr>\n",
       "    <tr>\n",
       "      <th>1</th>\n",
       "      <td>Die Welt in Flammen. 2. Teil</td>\n",
       "      <td>1923</td>\n",
       "    </tr>\n",
       "    <tr>\n",
       "      <th>2</th>\n",
       "      <td>The Three Passions</td>\n",
       "      <td>1928</td>\n",
       "    </tr>\n",
       "    <tr>\n",
       "      <th>3</th>\n",
       "      <td>I Love Desi</td>\n",
       "      <td>2015</td>\n",
       "    </tr>\n",
       "    <tr>\n",
       "      <th>4</th>\n",
       "      <td>Tales of Mystery and Imagination</td>\n",
       "      <td>2009</td>\n",
       "    </tr>\n",
       "  </tbody>\n",
       "</table>\n",
       "</div>"
      ],
      "text/plain": [
       "                              title  year\n",
       "0                            Kaakan  2015\n",
       "1      Die Welt in Flammen. 2. Teil  1923\n",
       "2                The Three Passions  1928\n",
       "3                       I Love Desi  2015\n",
       "4  Tales of Mystery and Imagination  2009"
      ]
     },
     "execution_count": 4,
     "metadata": {},
     "output_type": "execute_result"
    }
   ],
   "source": [
    "titles = pd.read_csv('data/titles.csv')\n",
    "titles.head()"
   ]
  },
  {
   "cell_type": "code",
   "execution_count": 5,
   "metadata": {},
   "outputs": [
    {
     "data": {
      "text/html": [
       "<div>\n",
       "<style scoped>\n",
       "    .dataframe tbody tr th:only-of-type {\n",
       "        vertical-align: middle;\n",
       "    }\n",
       "\n",
       "    .dataframe tbody tr th {\n",
       "        vertical-align: top;\n",
       "    }\n",
       "\n",
       "    .dataframe thead th {\n",
       "        text-align: right;\n",
       "    }\n",
       "</style>\n",
       "<table border=\"1\" class=\"dataframe\">\n",
       "  <thead>\n",
       "    <tr style=\"text-align: right;\">\n",
       "      <th></th>\n",
       "      <th>title</th>\n",
       "      <th>year</th>\n",
       "      <th>name</th>\n",
       "      <th>type</th>\n",
       "      <th>character</th>\n",
       "      <th>n</th>\n",
       "    </tr>\n",
       "  </thead>\n",
       "  <tbody>\n",
       "    <tr>\n",
       "      <th>0</th>\n",
       "      <td>Closet Monster</td>\n",
       "      <td>2015</td>\n",
       "      <td>Buffy #1</td>\n",
       "      <td>actor</td>\n",
       "      <td>Buffy 4</td>\n",
       "      <td>31.0</td>\n",
       "    </tr>\n",
       "    <tr>\n",
       "      <th>1</th>\n",
       "      <td>Suuri illusioni</td>\n",
       "      <td>1985</td>\n",
       "      <td>Homo $</td>\n",
       "      <td>actor</td>\n",
       "      <td>Guests</td>\n",
       "      <td>22.0</td>\n",
       "    </tr>\n",
       "    <tr>\n",
       "      <th>2</th>\n",
       "      <td>Battle of the Sexes</td>\n",
       "      <td>2017</td>\n",
       "      <td>$hutter</td>\n",
       "      <td>actor</td>\n",
       "      <td>Bobby Riggs Fan</td>\n",
       "      <td>10.0</td>\n",
       "    </tr>\n",
       "    <tr>\n",
       "      <th>3</th>\n",
       "      <td>Secret in Their Eyes</td>\n",
       "      <td>2015</td>\n",
       "      <td>$hutter</td>\n",
       "      <td>actor</td>\n",
       "      <td>2002 Dodger Fan</td>\n",
       "      <td>NaN</td>\n",
       "    </tr>\n",
       "    <tr>\n",
       "      <th>4</th>\n",
       "      <td>Steve Jobs</td>\n",
       "      <td>2015</td>\n",
       "      <td>$hutter</td>\n",
       "      <td>actor</td>\n",
       "      <td>1988 Opera House Patron</td>\n",
       "      <td>NaN</td>\n",
       "    </tr>\n",
       "  </tbody>\n",
       "</table>\n",
       "</div>"
      ],
      "text/plain": [
       "                  title  year      name   type                character     n\n",
       "0        Closet Monster  2015  Buffy #1  actor                  Buffy 4  31.0\n",
       "1       Suuri illusioni  1985    Homo $  actor                   Guests  22.0\n",
       "2   Battle of the Sexes  2017   $hutter  actor          Bobby Riggs Fan  10.0\n",
       "3  Secret in Their Eyes  2015   $hutter  actor          2002 Dodger Fan   NaN\n",
       "4            Steve Jobs  2015   $hutter  actor  1988 Opera House Patron   NaN"
      ]
     },
     "execution_count": 5,
     "metadata": {},
     "output_type": "execute_result"
    }
   ],
   "source": [
    "cast = pd.read_csv('data/cast.csv')\n",
    "cast.head()"
   ]
  },
  {
   "cell_type": "markdown",
   "metadata": {
    "collapsed": true,
    "jupyter": {
     "outputs_hidden": true
    }
   },
   "source": [
    "### How many movies are listed in the titles dataframe?"
   ]
  },
  {
   "cell_type": "code",
   "execution_count": 14,
   "metadata": {},
   "outputs": [
    {
     "data": {
      "text/plain": [
       "226013"
      ]
     },
     "execution_count": 14,
     "metadata": {},
     "output_type": "execute_result"
    }
   ],
   "source": [
    "len(titles)"
   ]
  },
  {
   "cell_type": "markdown",
   "metadata": {
    "collapsed": true,
    "jupyter": {
     "outputs_hidden": true
    }
   },
   "source": [
    "### What are the earliest two films listed in the titles dataframe?"
   ]
  },
  {
   "cell_type": "code",
   "execution_count": 16,
   "metadata": {},
   "outputs": [
    {
     "data": {
      "text/html": [
       "<div>\n",
       "<style scoped>\n",
       "    .dataframe tbody tr th:only-of-type {\n",
       "        vertical-align: middle;\n",
       "    }\n",
       "\n",
       "    .dataframe tbody tr th {\n",
       "        vertical-align: top;\n",
       "    }\n",
       "\n",
       "    .dataframe thead th {\n",
       "        text-align: right;\n",
       "    }\n",
       "</style>\n",
       "<table border=\"1\" class=\"dataframe\">\n",
       "  <thead>\n",
       "    <tr style=\"text-align: right;\">\n",
       "      <th></th>\n",
       "      <th>title</th>\n",
       "      <th>year</th>\n",
       "    </tr>\n",
       "  </thead>\n",
       "  <tbody>\n",
       "    <tr>\n",
       "      <th>38200</th>\n",
       "      <td>Miss Jerry</td>\n",
       "      <td>1894</td>\n",
       "    </tr>\n",
       "    <tr>\n",
       "      <th>753</th>\n",
       "      <td>The Startled Lover</td>\n",
       "      <td>1898</td>\n",
       "    </tr>\n",
       "  </tbody>\n",
       "</table>\n",
       "</div>"
      ],
      "text/plain": [
       "                    title  year\n",
       "38200          Miss Jerry  1894\n",
       "753    The Startled Lover  1898"
      ]
     },
     "execution_count": 16,
     "metadata": {},
     "output_type": "execute_result"
    }
   ],
   "source": [
    "titles.sort_values('year').head(2)"
   ]
  },
  {
   "cell_type": "code",
   "execution_count": null,
   "metadata": {
    "collapsed": true,
    "jupyter": {
     "outputs_hidden": true
    }
   },
   "outputs": [],
   "source": []
  },
  {
   "cell_type": "markdown",
   "metadata": {
    "collapsed": true,
    "jupyter": {
     "outputs_hidden": true
    }
   },
   "source": [
    "### How many movies have the single-word title \"Hamlet\"?"
   ]
  },
  {
   "cell_type": "code",
   "execution_count": 21,
   "metadata": {},
   "outputs": [
    {
     "data": {
      "text/plain": [
       "20"
      ]
     },
     "execution_count": 21,
     "metadata": {},
     "output_type": "execute_result"
    }
   ],
   "source": [
    "t = titles\n",
    "len(t[t.title == 'Hamlet'])"
   ]
  },
  {
   "cell_type": "markdown",
   "metadata": {
    "collapsed": true,
    "jupyter": {
     "outputs_hidden": true
    }
   },
   "source": [
    "### How many movies are titled \"North by Northwest\"?"
   ]
  },
  {
   "cell_type": "code",
   "execution_count": 23,
   "metadata": {},
   "outputs": [
    {
     "data": {
      "text/plain": [
       "1"
      ]
     },
     "execution_count": 23,
     "metadata": {},
     "output_type": "execute_result"
    }
   ],
   "source": [
    "len(t[t.title == 'North by Northwest'])"
   ]
  },
  {
   "cell_type": "markdown",
   "metadata": {
    "collapsed": true,
    "jupyter": {
     "outputs_hidden": true
    }
   },
   "source": [
    "### When was the first movie titled \"Hamlet\" made?"
   ]
  },
  {
   "cell_type": "code",
   "execution_count": 27,
   "metadata": {},
   "outputs": [
    {
     "data": {
      "text/html": [
       "<div>\n",
       "<style scoped>\n",
       "    .dataframe tbody tr th:only-of-type {\n",
       "        vertical-align: middle;\n",
       "    }\n",
       "\n",
       "    .dataframe tbody tr th {\n",
       "        vertical-align: top;\n",
       "    }\n",
       "\n",
       "    .dataframe thead th {\n",
       "        text-align: right;\n",
       "    }\n",
       "</style>\n",
       "<table border=\"1\" class=\"dataframe\">\n",
       "  <thead>\n",
       "    <tr style=\"text-align: right;\">\n",
       "      <th></th>\n",
       "      <th>title</th>\n",
       "      <th>year</th>\n",
       "    </tr>\n",
       "  </thead>\n",
       "  <tbody>\n",
       "    <tr>\n",
       "      <th>208932</th>\n",
       "      <td>Hamlet</td>\n",
       "      <td>1910</td>\n",
       "    </tr>\n",
       "  </tbody>\n",
       "</table>\n",
       "</div>"
      ],
      "text/plain": [
       "         title  year\n",
       "208932  Hamlet  1910"
      ]
     },
     "execution_count": 27,
     "metadata": {},
     "output_type": "execute_result"
    }
   ],
   "source": [
    "t = titles\n",
    "(t[t.title == 'Hamlet']).sort_values('year').head(1)"
   ]
  },
  {
   "cell_type": "markdown",
   "metadata": {
    "collapsed": true,
    "jupyter": {
     "outputs_hidden": true
    }
   },
   "source": [
    "### List all of the \"Treasure Island\" movies from earliest to most recent."
   ]
  },
  {
   "cell_type": "code",
   "execution_count": 29,
   "metadata": {},
   "outputs": [
    {
     "data": {
      "text/html": [
       "<div>\n",
       "<style scoped>\n",
       "    .dataframe tbody tr th:only-of-type {\n",
       "        vertical-align: middle;\n",
       "    }\n",
       "\n",
       "    .dataframe tbody tr th {\n",
       "        vertical-align: top;\n",
       "    }\n",
       "\n",
       "    .dataframe thead th {\n",
       "        text-align: right;\n",
       "    }\n",
       "</style>\n",
       "<table border=\"1\" class=\"dataframe\">\n",
       "  <thead>\n",
       "    <tr style=\"text-align: right;\">\n",
       "      <th></th>\n",
       "      <th>title</th>\n",
       "      <th>year</th>\n",
       "    </tr>\n",
       "  </thead>\n",
       "  <tbody>\n",
       "    <tr>\n",
       "      <th>85384</th>\n",
       "      <td>Treasure Island</td>\n",
       "      <td>1918</td>\n",
       "    </tr>\n",
       "    <tr>\n",
       "      <th>67136</th>\n",
       "      <td>Treasure Island</td>\n",
       "      <td>1920</td>\n",
       "    </tr>\n",
       "    <tr>\n",
       "      <th>61562</th>\n",
       "      <td>Treasure Island</td>\n",
       "      <td>1934</td>\n",
       "    </tr>\n",
       "    <tr>\n",
       "      <th>160769</th>\n",
       "      <td>Treasure Island</td>\n",
       "      <td>1950</td>\n",
       "    </tr>\n",
       "    <tr>\n",
       "      <th>38717</th>\n",
       "      <td>Treasure Island</td>\n",
       "      <td>1972</td>\n",
       "    </tr>\n",
       "    <tr>\n",
       "      <th>154371</th>\n",
       "      <td>Treasure Island</td>\n",
       "      <td>1973</td>\n",
       "    </tr>\n",
       "    <tr>\n",
       "      <th>89339</th>\n",
       "      <td>Treasure Island</td>\n",
       "      <td>1985</td>\n",
       "    </tr>\n",
       "    <tr>\n",
       "      <th>22702</th>\n",
       "      <td>Treasure Island</td>\n",
       "      <td>1999</td>\n",
       "    </tr>\n",
       "  </tbody>\n",
       "</table>\n",
       "</div>"
      ],
      "text/plain": [
       "                  title  year\n",
       "85384   Treasure Island  1918\n",
       "67136   Treasure Island  1920\n",
       "61562   Treasure Island  1934\n",
       "160769  Treasure Island  1950\n",
       "38717   Treasure Island  1972\n",
       "154371  Treasure Island  1973\n",
       "89339   Treasure Island  1985\n",
       "22702   Treasure Island  1999"
      ]
     },
     "execution_count": 29,
     "metadata": {},
     "output_type": "execute_result"
    }
   ],
   "source": [
    "t = titles\n",
    "(t[t.title == 'Treasure Island']).sort_values('year')"
   ]
  },
  {
   "cell_type": "code",
   "execution_count": null,
   "metadata": {
    "collapsed": true,
    "jupyter": {
     "outputs_hidden": true
    }
   },
   "outputs": [],
   "source": []
  },
  {
   "cell_type": "markdown",
   "metadata": {
    "collapsed": true,
    "jupyter": {
     "outputs_hidden": true
    }
   },
   "source": [
    "### How many movies were made in the year 1950?"
   ]
  },
  {
   "cell_type": "code",
   "execution_count": 34,
   "metadata": {},
   "outputs": [
    {
     "data": {
      "text/plain": [
       "1109"
      ]
     },
     "execution_count": 34,
     "metadata": {},
     "output_type": "execute_result"
    }
   ],
   "source": [
    "t = titles\n",
    "len(t[t.year == 1950])"
   ]
  },
  {
   "cell_type": "code",
   "execution_count": null,
   "metadata": {
    "collapsed": true,
    "jupyter": {
     "outputs_hidden": true
    }
   },
   "outputs": [],
   "source": []
  },
  {
   "cell_type": "markdown",
   "metadata": {
    "collapsed": true,
    "jupyter": {
     "outputs_hidden": true
    }
   },
   "source": [
    "### How many movies were made in the year 1960?"
   ]
  },
  {
   "cell_type": "code",
   "execution_count": 35,
   "metadata": {},
   "outputs": [
    {
     "data": {
      "text/plain": [
       "1496"
      ]
     },
     "execution_count": 35,
     "metadata": {},
     "output_type": "execute_result"
    }
   ],
   "source": [
    "t = titles\n",
    "len(t[t.year == 1960])"
   ]
  },
  {
   "cell_type": "code",
   "execution_count": null,
   "metadata": {
    "collapsed": true,
    "jupyter": {
     "outputs_hidden": true
    }
   },
   "outputs": [],
   "source": []
  },
  {
   "cell_type": "markdown",
   "metadata": {
    "collapsed": true,
    "jupyter": {
     "outputs_hidden": true
    }
   },
   "source": [
    "### How many movies were made from 1950 through 1959?"
   ]
  },
  {
   "cell_type": "code",
   "execution_count": 43,
   "metadata": {},
   "outputs": [
    {
     "data": {
      "text/plain": [
       "12664"
      ]
     },
     "execution_count": 43,
     "metadata": {},
     "output_type": "execute_result"
    }
   ],
   "source": [
    "t = titles\n",
    "len(t[(t.year >= 1950) & (t.year <= 1959)])"
   ]
  },
  {
   "cell_type": "code",
   "execution_count": null,
   "metadata": {
    "collapsed": true,
    "jupyter": {
     "outputs_hidden": true
    }
   },
   "outputs": [],
   "source": []
  },
  {
   "cell_type": "markdown",
   "metadata": {
    "collapsed": true,
    "jupyter": {
     "outputs_hidden": true
    }
   },
   "source": [
    "### In what years has a movie titled \"Batman\" been released?"
   ]
  },
  {
   "cell_type": "code",
   "execution_count": 47,
   "metadata": {},
   "outputs": [
    {
     "data": {
      "text/html": [
       "<div>\n",
       "<style scoped>\n",
       "    .dataframe tbody tr th:only-of-type {\n",
       "        vertical-align: middle;\n",
       "    }\n",
       "\n",
       "    .dataframe tbody tr th {\n",
       "        vertical-align: top;\n",
       "    }\n",
       "\n",
       "    .dataframe thead th {\n",
       "        text-align: right;\n",
       "    }\n",
       "</style>\n",
       "<table border=\"1\" class=\"dataframe\">\n",
       "  <thead>\n",
       "    <tr style=\"text-align: right;\">\n",
       "      <th></th>\n",
       "      <th>title</th>\n",
       "      <th>year</th>\n",
       "    </tr>\n",
       "  </thead>\n",
       "  <tbody>\n",
       "    <tr>\n",
       "      <th>110926</th>\n",
       "      <td>Batman</td>\n",
       "      <td>1943</td>\n",
       "    </tr>\n",
       "    <tr>\n",
       "      <th>198996</th>\n",
       "      <td>Batman</td>\n",
       "      <td>1989</td>\n",
       "    </tr>\n",
       "  </tbody>\n",
       "</table>\n",
       "</div>"
      ],
      "text/plain": [
       "         title  year\n",
       "110926  Batman  1943\n",
       "198996  Batman  1989"
      ]
     },
     "execution_count": 47,
     "metadata": {},
     "output_type": "execute_result"
    }
   ],
   "source": [
    "(t[t.title == 'Batman'])"
   ]
  },
  {
   "cell_type": "code",
   "execution_count": null,
   "metadata": {
    "collapsed": true,
    "jupyter": {
     "outputs_hidden": true
    }
   },
   "outputs": [],
   "source": []
  },
  {
   "cell_type": "markdown",
   "metadata": {
    "collapsed": true,
    "jupyter": {
     "outputs_hidden": true
    }
   },
   "source": [
    "### How many roles were there in the movie \"Inception\"?"
   ]
  },
  {
   "cell_type": "code",
   "execution_count": 57,
   "metadata": {},
   "outputs": [
    {
     "data": {
      "text/plain": [
       "78"
      ]
     },
     "execution_count": 57,
     "metadata": {},
     "output_type": "execute_result"
    }
   ],
   "source": [
    "c = cast\n",
    "len(c[c.title == 'Inception'])"
   ]
  },
  {
   "cell_type": "code",
   "execution_count": null,
   "metadata": {},
   "outputs": [],
   "source": []
  },
  {
   "cell_type": "markdown",
   "metadata": {
    "collapsed": true,
    "jupyter": {
     "outputs_hidden": true
    }
   },
   "source": [
    "### How many roles in the movie \"Inception\" are NOT ranked by an \"n\" value?"
   ]
  },
  {
   "cell_type": "code",
   "execution_count": 86,
   "metadata": {},
   "outputs": [
    {
     "data": {
      "text/plain": [
       "np.int64(27)"
      ]
     },
     "execution_count": 86,
     "metadata": {},
     "output_type": "execute_result"
    }
   ],
   "source": [
    "c = cast\n",
    "(c[c.title == 'Inception']).n.isnull().sum()"
   ]
  },
  {
   "cell_type": "code",
   "execution_count": null,
   "metadata": {
    "collapsed": true,
    "jupyter": {
     "outputs_hidden": true
    }
   },
   "outputs": [],
   "source": []
  },
  {
   "cell_type": "markdown",
   "metadata": {
    "collapsed": true,
    "jupyter": {
     "outputs_hidden": true
    }
   },
   "source": [
    "### But how many roles in the movie \"Inception\" did receive an \"n\" value?"
   ]
  },
  {
   "cell_type": "code",
   "execution_count": 87,
   "metadata": {},
   "outputs": [
    {
     "data": {
      "text/plain": [
       "np.int64(51)"
      ]
     },
     "execution_count": 87,
     "metadata": {},
     "output_type": "execute_result"
    }
   ],
   "source": [
    "c = cast\n",
    "(c[c.title == 'Inception']).n.count()"
   ]
  },
  {
   "cell_type": "code",
   "execution_count": 102,
   "metadata": {},
   "outputs": [
    {
     "data": {
      "text/html": [
       "<div>\n",
       "<style scoped>\n",
       "    .dataframe tbody tr th:only-of-type {\n",
       "        vertical-align: middle;\n",
       "    }\n",
       "\n",
       "    .dataframe tbody tr th {\n",
       "        vertical-align: top;\n",
       "    }\n",
       "\n",
       "    .dataframe thead th {\n",
       "        text-align: right;\n",
       "    }\n",
       "</style>\n",
       "<table border=\"1\" class=\"dataframe\">\n",
       "  <thead>\n",
       "    <tr style=\"text-align: right;\">\n",
       "      <th></th>\n",
       "      <th>title</th>\n",
       "      <th>year</th>\n",
       "      <th>name</th>\n",
       "      <th>type</th>\n",
       "      <th>character</th>\n",
       "      <th>n</th>\n",
       "    </tr>\n",
       "  </thead>\n",
       "  <tbody>\n",
       "    <tr>\n",
       "      <th>0</th>\n",
       "      <td>Closet Monster</td>\n",
       "      <td>2015</td>\n",
       "      <td>Buffy #1</td>\n",
       "      <td>actor</td>\n",
       "      <td>Buffy 4</td>\n",
       "      <td>31.0</td>\n",
       "    </tr>\n",
       "    <tr>\n",
       "      <th>1</th>\n",
       "      <td>Suuri illusioni</td>\n",
       "      <td>1985</td>\n",
       "      <td>Homo $</td>\n",
       "      <td>actor</td>\n",
       "      <td>Guests</td>\n",
       "      <td>22.0</td>\n",
       "    </tr>\n",
       "    <tr>\n",
       "      <th>2</th>\n",
       "      <td>Battle of the Sexes</td>\n",
       "      <td>2017</td>\n",
       "      <td>$hutter</td>\n",
       "      <td>actor</td>\n",
       "      <td>Bobby Riggs Fan</td>\n",
       "      <td>10.0</td>\n",
       "    </tr>\n",
       "    <tr>\n",
       "      <th>3</th>\n",
       "      <td>Secret in Their Eyes</td>\n",
       "      <td>2015</td>\n",
       "      <td>$hutter</td>\n",
       "      <td>actor</td>\n",
       "      <td>2002 Dodger Fan</td>\n",
       "      <td>NaN</td>\n",
       "    </tr>\n",
       "    <tr>\n",
       "      <th>4</th>\n",
       "      <td>Steve Jobs</td>\n",
       "      <td>2015</td>\n",
       "      <td>$hutter</td>\n",
       "      <td>actor</td>\n",
       "      <td>1988 Opera House Patron</td>\n",
       "      <td>NaN</td>\n",
       "    </tr>\n",
       "    <tr>\n",
       "      <th>...</th>\n",
       "      <td>...</td>\n",
       "      <td>...</td>\n",
       "      <td>...</td>\n",
       "      <td>...</td>\n",
       "      <td>...</td>\n",
       "      <td>...</td>\n",
       "    </tr>\n",
       "    <tr>\n",
       "      <th>3442897</th>\n",
       "      <td>Foxtrot</td>\n",
       "      <td>1988</td>\n",
       "      <td>Lilja Þórisdóttir</td>\n",
       "      <td>actress</td>\n",
       "      <td>Dóra</td>\n",
       "      <td>24.0</td>\n",
       "    </tr>\n",
       "    <tr>\n",
       "      <th>3442898</th>\n",
       "      <td>Niceland (Population. 1.000.002)</td>\n",
       "      <td>2004</td>\n",
       "      <td>Sigríður Jóna Þórisdóttir</td>\n",
       "      <td>actress</td>\n",
       "      <td>Woman in Bus</td>\n",
       "      <td>26.0</td>\n",
       "    </tr>\n",
       "    <tr>\n",
       "      <th>3442899</th>\n",
       "      <td>Skammdegi</td>\n",
       "      <td>1985</td>\n",
       "      <td>Dalla Þórðardóttir</td>\n",
       "      <td>actress</td>\n",
       "      <td>Hjúkrunarkona</td>\n",
       "      <td>9.0</td>\n",
       "    </tr>\n",
       "    <tr>\n",
       "      <th>3442900</th>\n",
       "      <td>U.S.S.S.S...</td>\n",
       "      <td>2003</td>\n",
       "      <td>Kristín Andrea Þórðardóttir</td>\n",
       "      <td>actress</td>\n",
       "      <td>Afgr.dama á bensínstöð</td>\n",
       "      <td>17.0</td>\n",
       "    </tr>\n",
       "    <tr>\n",
       "      <th>3442901</th>\n",
       "      <td>Bye Bye Blue Bird</td>\n",
       "      <td>1999</td>\n",
       "      <td>Rosa á Rógvu</td>\n",
       "      <td>actress</td>\n",
       "      <td>Pensionatværtinde</td>\n",
       "      <td>NaN</td>\n",
       "    </tr>\n",
       "  </tbody>\n",
       "</table>\n",
       "<p>3442902 rows × 6 columns</p>\n",
       "</div>"
      ],
      "text/plain": [
       "                                    title  year                         name  \\\n",
       "0                          Closet Monster  2015                     Buffy #1   \n",
       "1                         Suuri illusioni  1985                       Homo $   \n",
       "2                     Battle of the Sexes  2017                      $hutter   \n",
       "3                    Secret in Their Eyes  2015                      $hutter   \n",
       "4                              Steve Jobs  2015                      $hutter   \n",
       "...                                   ...   ...                          ...   \n",
       "3442897                           Foxtrot  1988            Lilja Þórisdóttir   \n",
       "3442898  Niceland (Population. 1.000.002)  2004    Sigríður Jóna Þórisdóttir   \n",
       "3442899                         Skammdegi  1985           Dalla Þórðardóttir   \n",
       "3442900                      U.S.S.S.S...  2003  Kristín Andrea Þórðardóttir   \n",
       "3442901                 Bye Bye Blue Bird  1999                 Rosa á Rógvu   \n",
       "\n",
       "            type                character     n  \n",
       "0          actor                  Buffy 4  31.0  \n",
       "1          actor                   Guests  22.0  \n",
       "2          actor          Bobby Riggs Fan  10.0  \n",
       "3          actor          2002 Dodger Fan   NaN  \n",
       "4          actor  1988 Opera House Patron   NaN  \n",
       "...          ...                      ...   ...  \n",
       "3442897  actress                     Dóra  24.0  \n",
       "3442898  actress             Woman in Bus  26.0  \n",
       "3442899  actress            Hjúkrunarkona   9.0  \n",
       "3442900  actress   Afgr.dama á bensínstöð  17.0  \n",
       "3442901  actress        Pensionatværtinde   NaN  \n",
       "\n",
       "[3442902 rows x 6 columns]"
      ]
     },
     "execution_count": 102,
     "metadata": {},
     "output_type": "execute_result"
    }
   ],
   "source": [
    "cast"
   ]
  },
  {
   "cell_type": "markdown",
   "metadata": {
    "collapsed": true,
    "jupyter": {
     "outputs_hidden": true
    }
   },
   "source": [
    "### Display the cast of \"North by Northwest\" in their correct \"n\"-value order, ignoring roles that did not earn a numeric \"n\" value."
   ]
  },
  {
   "cell_type": "code",
   "execution_count": 129,
   "metadata": {},
   "outputs": [
    {
     "data": {
      "text/html": [
       "<div>\n",
       "<style scoped>\n",
       "    .dataframe tbody tr th:only-of-type {\n",
       "        vertical-align: middle;\n",
       "    }\n",
       "\n",
       "    .dataframe tbody tr th {\n",
       "        vertical-align: top;\n",
       "    }\n",
       "\n",
       "    .dataframe thead th {\n",
       "        text-align: right;\n",
       "    }\n",
       "</style>\n",
       "<table border=\"1\" class=\"dataframe\">\n",
       "  <thead>\n",
       "    <tr style=\"text-align: right;\">\n",
       "      <th></th>\n",
       "      <th>title</th>\n",
       "      <th>year</th>\n",
       "      <th>name</th>\n",
       "      <th>type</th>\n",
       "      <th>character</th>\n",
       "      <th>n</th>\n",
       "    </tr>\n",
       "  </thead>\n",
       "  <tbody>\n",
       "    <tr>\n",
       "      <th>797150</th>\n",
       "      <td>North by Northwest</td>\n",
       "      <td>1959</td>\n",
       "      <td>Cary Grant</td>\n",
       "      <td>actor</td>\n",
       "      <td>Roger O. Thornhill</td>\n",
       "      <td>1.0</td>\n",
       "    </tr>\n",
       "    <tr>\n",
       "      <th>3201980</th>\n",
       "      <td>North by Northwest</td>\n",
       "      <td>1959</td>\n",
       "      <td>Eva Marie Saint</td>\n",
       "      <td>actress</td>\n",
       "      <td>Eve Kendall</td>\n",
       "      <td>2.0</td>\n",
       "    </tr>\n",
       "    <tr>\n",
       "      <th>1333732</th>\n",
       "      <td>North by Northwest</td>\n",
       "      <td>1959</td>\n",
       "      <td>James Mason</td>\n",
       "      <td>actor</td>\n",
       "      <td>Phillip Vandamm</td>\n",
       "      <td>3.0</td>\n",
       "    </tr>\n",
       "    <tr>\n",
       "      <th>2878461</th>\n",
       "      <td>North by Northwest</td>\n",
       "      <td>1959</td>\n",
       "      <td>Jessie Royce Landis</td>\n",
       "      <td>actress</td>\n",
       "      <td>Clara Thornhill</td>\n",
       "      <td>4.0</td>\n",
       "    </tr>\n",
       "    <tr>\n",
       "      <th>326415</th>\n",
       "      <td>North by Northwest</td>\n",
       "      <td>1959</td>\n",
       "      <td>Leo G. Carroll</td>\n",
       "      <td>actor</td>\n",
       "      <td>The Professor</td>\n",
       "      <td>5.0</td>\n",
       "    </tr>\n",
       "    <tr>\n",
       "      <th>2780220</th>\n",
       "      <td>North by Northwest</td>\n",
       "      <td>1959</td>\n",
       "      <td>Josephine Hutchinson</td>\n",
       "      <td>actress</td>\n",
       "      <td>Mrs. Townsend</td>\n",
       "      <td>6.0</td>\n",
       "    </tr>\n",
       "    <tr>\n",
       "      <th>1551491</th>\n",
       "      <td>North by Northwest</td>\n",
       "      <td>1959</td>\n",
       "      <td>Philip Ober</td>\n",
       "      <td>actor</td>\n",
       "      <td>Lester Townsend</td>\n",
       "      <td>7.0</td>\n",
       "    </tr>\n",
       "    <tr>\n",
       "      <th>1167105</th>\n",
       "      <td>North by Northwest</td>\n",
       "      <td>1959</td>\n",
       "      <td>Martin Landau</td>\n",
       "      <td>actor</td>\n",
       "      <td>Leonard</td>\n",
       "      <td>8.0</td>\n",
       "    </tr>\n",
       "    <tr>\n",
       "      <th>2239203</th>\n",
       "      <td>North by Northwest</td>\n",
       "      <td>1959</td>\n",
       "      <td>Adam Williams</td>\n",
       "      <td>actor</td>\n",
       "      <td>Valerian</td>\n",
       "      <td>9.0</td>\n",
       "    </tr>\n",
       "    <tr>\n",
       "      <th>1657968</th>\n",
       "      <td>North by Northwest</td>\n",
       "      <td>1959</td>\n",
       "      <td>Edward Platt</td>\n",
       "      <td>actor</td>\n",
       "      <td>Victor Larrabee</td>\n",
       "      <td>10.0</td>\n",
       "    </tr>\n",
       "    <tr>\n",
       "      <th>609229</th>\n",
       "      <td>North by Northwest</td>\n",
       "      <td>1959</td>\n",
       "      <td>Robert Ellenstein</td>\n",
       "      <td>actor</td>\n",
       "      <td>Licht</td>\n",
       "      <td>11.0</td>\n",
       "    </tr>\n",
       "    <tr>\n",
       "      <th>2100440</th>\n",
       "      <td>North by Northwest</td>\n",
       "      <td>1959</td>\n",
       "      <td>Les Tremayne</td>\n",
       "      <td>actor</td>\n",
       "      <td>Auctioneer</td>\n",
       "      <td>12.0</td>\n",
       "    </tr>\n",
       "    <tr>\n",
       "      <th>425645</th>\n",
       "      <td>North by Northwest</td>\n",
       "      <td>1959</td>\n",
       "      <td>Philip Coolidge</td>\n",
       "      <td>actor</td>\n",
       "      <td>Dr. Cross</td>\n",
       "      <td>13.0</td>\n",
       "    </tr>\n",
       "    <tr>\n",
       "      <th>1379980</th>\n",
       "      <td>North by Northwest</td>\n",
       "      <td>1959</td>\n",
       "      <td>Patrick McVey</td>\n",
       "      <td>actor</td>\n",
       "      <td>Sergeant Flamm</td>\n",
       "      <td>14.0</td>\n",
       "    </tr>\n",
       "    <tr>\n",
       "      <th>189719</th>\n",
       "      <td>North by Northwest</td>\n",
       "      <td>1959</td>\n",
       "      <td>Edward Binns</td>\n",
       "      <td>actor</td>\n",
       "      <td>Captain Junket</td>\n",
       "      <td>15.0</td>\n",
       "    </tr>\n",
       "    <tr>\n",
       "      <th>1267109</th>\n",
       "      <td>North by Northwest</td>\n",
       "      <td>1959</td>\n",
       "      <td>Ken Lynch</td>\n",
       "      <td>actor</td>\n",
       "      <td>Charley - Chicago Policeman</td>\n",
       "      <td>16.0</td>\n",
       "    </tr>\n",
       "  </tbody>\n",
       "</table>\n",
       "</div>"
      ],
      "text/plain": [
       "                      title  year                  name     type  \\\n",
       "797150   North by Northwest  1959            Cary Grant    actor   \n",
       "3201980  North by Northwest  1959       Eva Marie Saint  actress   \n",
       "1333732  North by Northwest  1959           James Mason    actor   \n",
       "2878461  North by Northwest  1959   Jessie Royce Landis  actress   \n",
       "326415   North by Northwest  1959        Leo G. Carroll    actor   \n",
       "2780220  North by Northwest  1959  Josephine Hutchinson  actress   \n",
       "1551491  North by Northwest  1959           Philip Ober    actor   \n",
       "1167105  North by Northwest  1959         Martin Landau    actor   \n",
       "2239203  North by Northwest  1959         Adam Williams    actor   \n",
       "1657968  North by Northwest  1959          Edward Platt    actor   \n",
       "609229   North by Northwest  1959     Robert Ellenstein    actor   \n",
       "2100440  North by Northwest  1959          Les Tremayne    actor   \n",
       "425645   North by Northwest  1959       Philip Coolidge    actor   \n",
       "1379980  North by Northwest  1959         Patrick McVey    actor   \n",
       "189719   North by Northwest  1959          Edward Binns    actor   \n",
       "1267109  North by Northwest  1959             Ken Lynch    actor   \n",
       "\n",
       "                           character     n  \n",
       "797150            Roger O. Thornhill   1.0  \n",
       "3201980                  Eve Kendall   2.0  \n",
       "1333732              Phillip Vandamm   3.0  \n",
       "2878461              Clara Thornhill   4.0  \n",
       "326415                 The Professor   5.0  \n",
       "2780220                Mrs. Townsend   6.0  \n",
       "1551491              Lester Townsend   7.0  \n",
       "1167105                      Leonard   8.0  \n",
       "2239203                     Valerian   9.0  \n",
       "1657968              Victor Larrabee  10.0  \n",
       "609229                         Licht  11.0  \n",
       "2100440                   Auctioneer  12.0  \n",
       "425645                     Dr. Cross  13.0  \n",
       "1379980               Sergeant Flamm  14.0  \n",
       "189719                Captain Junket  15.0  \n",
       "1267109  Charley - Chicago Policeman  16.0  "
      ]
     },
     "execution_count": 129,
     "metadata": {},
     "output_type": "execute_result"
    }
   ],
   "source": [
    "c = cast\n",
    "c = ((c[(c.title == 'North by Northwest') & (c.n.notnull())])).sort_values('n')\n",
    "c"
   ]
  },
  {
   "cell_type": "code",
   "execution_count": null,
   "metadata": {
    "collapsed": true,
    "jupyter": {
     "outputs_hidden": true
    }
   },
   "outputs": [],
   "source": []
  },
  {
   "cell_type": "markdown",
   "metadata": {
    "collapsed": true,
    "jupyter": {
     "outputs_hidden": true
    }
   },
   "source": [
    "### Display the entire cast, in \"n\"-order, of the 1972 film \"Sleuth\"."
   ]
  },
  {
   "cell_type": "code",
   "execution_count": 133,
   "metadata": {},
   "outputs": [
    {
     "data": {
      "text/html": [
       "<div>\n",
       "<style scoped>\n",
       "    .dataframe tbody tr th:only-of-type {\n",
       "        vertical-align: middle;\n",
       "    }\n",
       "\n",
       "    .dataframe tbody tr th {\n",
       "        vertical-align: top;\n",
       "    }\n",
       "\n",
       "    .dataframe thead th {\n",
       "        text-align: right;\n",
       "    }\n",
       "</style>\n",
       "<table border=\"1\" class=\"dataframe\">\n",
       "  <thead>\n",
       "    <tr style=\"text-align: right;\">\n",
       "      <th></th>\n",
       "      <th>title</th>\n",
       "      <th>year</th>\n",
       "      <th>name</th>\n",
       "      <th>type</th>\n",
       "      <th>character</th>\n",
       "      <th>n</th>\n",
       "    </tr>\n",
       "  </thead>\n",
       "  <tbody>\n",
       "    <tr>\n",
       "      <th>1560814</th>\n",
       "      <td>Sleuth</td>\n",
       "      <td>1972</td>\n",
       "      <td>Laurence Olivier</td>\n",
       "      <td>actor</td>\n",
       "      <td>Andrew Wyke</td>\n",
       "      <td>1.0</td>\n",
       "    </tr>\n",
       "    <tr>\n",
       "      <th>299291</th>\n",
       "      <td>Sleuth</td>\n",
       "      <td>1972</td>\n",
       "      <td>Michael Caine</td>\n",
       "      <td>actor</td>\n",
       "      <td>Milo Tindle</td>\n",
       "      <td>2.0</td>\n",
       "    </tr>\n",
       "    <tr>\n",
       "      <th>342151</th>\n",
       "      <td>Sleuth</td>\n",
       "      <td>1972</td>\n",
       "      <td>Alec Cawthorne</td>\n",
       "      <td>actor</td>\n",
       "      <td>Inspector Doppler</td>\n",
       "      <td>3.0</td>\n",
       "    </tr>\n",
       "    <tr>\n",
       "      <th>1341313</th>\n",
       "      <td>Sleuth</td>\n",
       "      <td>1972</td>\n",
       "      <td>John (II) Matthews</td>\n",
       "      <td>actor</td>\n",
       "      <td>Detective Sergeant Tarrant</td>\n",
       "      <td>4.0</td>\n",
       "    </tr>\n",
       "    <tr>\n",
       "      <th>2490141</th>\n",
       "      <td>Sleuth</td>\n",
       "      <td>1972</td>\n",
       "      <td>Eve (III) Channing</td>\n",
       "      <td>actress</td>\n",
       "      <td>Marguerite Wyke</td>\n",
       "      <td>5.0</td>\n",
       "    </tr>\n",
       "    <tr>\n",
       "      <th>1325945</th>\n",
       "      <td>Sleuth</td>\n",
       "      <td>1972</td>\n",
       "      <td>Teddy Martin</td>\n",
       "      <td>actor</td>\n",
       "      <td>Police Constable Higgs</td>\n",
       "      <td>6.0</td>\n",
       "    </tr>\n",
       "  </tbody>\n",
       "</table>\n",
       "</div>"
      ],
      "text/plain": [
       "          title  year                name     type  \\\n",
       "1560814  Sleuth  1972    Laurence Olivier    actor   \n",
       "299291   Sleuth  1972       Michael Caine    actor   \n",
       "342151   Sleuth  1972      Alec Cawthorne    actor   \n",
       "1341313  Sleuth  1972  John (II) Matthews    actor   \n",
       "2490141  Sleuth  1972  Eve (III) Channing  actress   \n",
       "1325945  Sleuth  1972        Teddy Martin    actor   \n",
       "\n",
       "                          character    n  \n",
       "1560814                 Andrew Wyke  1.0  \n",
       "299291                  Milo Tindle  2.0  \n",
       "342151            Inspector Doppler  3.0  \n",
       "1341313  Detective Sergeant Tarrant  4.0  \n",
       "2490141             Marguerite Wyke  5.0  \n",
       "1325945      Police Constable Higgs  6.0  "
      ]
     },
     "execution_count": 133,
     "metadata": {},
     "output_type": "execute_result"
    }
   ],
   "source": [
    "c = cast\n",
    "(c[(c.title == 'Sleuth') & (c.year == 1972)]).sort_values('n')"
   ]
  },
  {
   "cell_type": "code",
   "execution_count": null,
   "metadata": {
    "collapsed": true,
    "jupyter": {
     "outputs_hidden": true
    }
   },
   "outputs": [],
   "source": []
  },
  {
   "cell_type": "markdown",
   "metadata": {
    "collapsed": true,
    "jupyter": {
     "outputs_hidden": true
    }
   },
   "source": [
    "### Now display the entire cast, in \"n\"-order, of the 2007 version of \"Sleuth\"."
   ]
  },
  {
   "cell_type": "code",
   "execution_count": 134,
   "metadata": {},
   "outputs": [
    {
     "data": {
      "text/html": [
       "<div>\n",
       "<style scoped>\n",
       "    .dataframe tbody tr th:only-of-type {\n",
       "        vertical-align: middle;\n",
       "    }\n",
       "\n",
       "    .dataframe tbody tr th {\n",
       "        vertical-align: top;\n",
       "    }\n",
       "\n",
       "    .dataframe thead th {\n",
       "        text-align: right;\n",
       "    }\n",
       "</style>\n",
       "<table border=\"1\" class=\"dataframe\">\n",
       "  <thead>\n",
       "    <tr style=\"text-align: right;\">\n",
       "      <th></th>\n",
       "      <th>title</th>\n",
       "      <th>year</th>\n",
       "      <th>name</th>\n",
       "      <th>type</th>\n",
       "      <th>character</th>\n",
       "      <th>n</th>\n",
       "    </tr>\n",
       "  </thead>\n",
       "  <tbody>\n",
       "    <tr>\n",
       "      <th>299292</th>\n",
       "      <td>Sleuth</td>\n",
       "      <td>2007</td>\n",
       "      <td>Michael Caine</td>\n",
       "      <td>actor</td>\n",
       "      <td>Andrew</td>\n",
       "      <td>1.0</td>\n",
       "    </tr>\n",
       "    <tr>\n",
       "      <th>1183659</th>\n",
       "      <td>Sleuth</td>\n",
       "      <td>2007</td>\n",
       "      <td>Jude Law</td>\n",
       "      <td>actor</td>\n",
       "      <td>Milo</td>\n",
       "      <td>2.0</td>\n",
       "    </tr>\n",
       "    <tr>\n",
       "      <th>1652936</th>\n",
       "      <td>Sleuth</td>\n",
       "      <td>2007</td>\n",
       "      <td>Harold Pinter</td>\n",
       "      <td>actor</td>\n",
       "      <td>Man on T.V.</td>\n",
       "      <td>3.0</td>\n",
       "    </tr>\n",
       "    <tr>\n",
       "      <th>238747</th>\n",
       "      <td>Sleuth</td>\n",
       "      <td>2007</td>\n",
       "      <td>Kenneth Branagh</td>\n",
       "      <td>actor</td>\n",
       "      <td>Other Man on T.V.</td>\n",
       "      <td>NaN</td>\n",
       "    </tr>\n",
       "    <tr>\n",
       "      <th>342152</th>\n",
       "      <td>Sleuth</td>\n",
       "      <td>2007</td>\n",
       "      <td>Alec (II) Cawthorne</td>\n",
       "      <td>actor</td>\n",
       "      <td>Inspector Doppler</td>\n",
       "      <td>NaN</td>\n",
       "    </tr>\n",
       "    <tr>\n",
       "      <th>2490140</th>\n",
       "      <td>Sleuth</td>\n",
       "      <td>2007</td>\n",
       "      <td>Eve (II) Channing</td>\n",
       "      <td>actress</td>\n",
       "      <td>Marguerite Wyke</td>\n",
       "      <td>NaN</td>\n",
       "    </tr>\n",
       "    <tr>\n",
       "      <th>3069393</th>\n",
       "      <td>Sleuth</td>\n",
       "      <td>2007</td>\n",
       "      <td>Carmel O'Sullivan</td>\n",
       "      <td>actress</td>\n",
       "      <td>Maggie</td>\n",
       "      <td>NaN</td>\n",
       "    </tr>\n",
       "  </tbody>\n",
       "</table>\n",
       "</div>"
      ],
      "text/plain": [
       "          title  year                 name     type          character    n\n",
       "299292   Sleuth  2007        Michael Caine    actor             Andrew  1.0\n",
       "1183659  Sleuth  2007             Jude Law    actor               Milo  2.0\n",
       "1652936  Sleuth  2007        Harold Pinter    actor        Man on T.V.  3.0\n",
       "238747   Sleuth  2007      Kenneth Branagh    actor  Other Man on T.V.  NaN\n",
       "342152   Sleuth  2007  Alec (II) Cawthorne    actor  Inspector Doppler  NaN\n",
       "2490140  Sleuth  2007    Eve (II) Channing  actress    Marguerite Wyke  NaN\n",
       "3069393  Sleuth  2007    Carmel O'Sullivan  actress             Maggie  NaN"
      ]
     },
     "execution_count": 134,
     "metadata": {},
     "output_type": "execute_result"
    }
   ],
   "source": [
    "c = cast\n",
    "(c[(c.title == 'Sleuth') & (c.year == 2007)]).sort_values('n')"
   ]
  },
  {
   "cell_type": "code",
   "execution_count": null,
   "metadata": {
    "collapsed": true,
    "jupyter": {
     "outputs_hidden": true
    }
   },
   "outputs": [],
   "source": []
  },
  {
   "cell_type": "markdown",
   "metadata": {
    "collapsed": true,
    "jupyter": {
     "outputs_hidden": true
    }
   },
   "source": [
    "### How many roles were credited in the silent 1921 version of Hamlet?"
   ]
  },
  {
   "cell_type": "code",
   "execution_count": 139,
   "metadata": {},
   "outputs": [
    {
     "data": {
      "text/plain": [
       "9"
      ]
     },
     "execution_count": 139,
     "metadata": {},
     "output_type": "execute_result"
    }
   ],
   "source": [
    "c = cast\n",
    "len((c[(c.title == 'Hamlet') & (c.year == 1921)]))"
   ]
  },
  {
   "cell_type": "code",
   "execution_count": null,
   "metadata": {
    "collapsed": true,
    "jupyter": {
     "outputs_hidden": true
    }
   },
   "outputs": [],
   "source": []
  },
  {
   "cell_type": "markdown",
   "metadata": {
    "collapsed": true,
    "jupyter": {
     "outputs_hidden": true
    }
   },
   "source": [
    "### How many roles were credited in Branagh’s 1996 Hamlet?"
   ]
  },
  {
   "cell_type": "code",
   "execution_count": 145,
   "metadata": {},
   "outputs": [
    {
     "data": {
      "text/html": [
       "<div>\n",
       "<style scoped>\n",
       "    .dataframe tbody tr th:only-of-type {\n",
       "        vertical-align: middle;\n",
       "    }\n",
       "\n",
       "    .dataframe tbody tr th {\n",
       "        vertical-align: top;\n",
       "    }\n",
       "\n",
       "    .dataframe thead th {\n",
       "        text-align: right;\n",
       "    }\n",
       "</style>\n",
       "<table border=\"1\" class=\"dataframe\">\n",
       "  <thead>\n",
       "    <tr style=\"text-align: right;\">\n",
       "      <th></th>\n",
       "      <th>title</th>\n",
       "      <th>year</th>\n",
       "      <th>name</th>\n",
       "      <th>type</th>\n",
       "      <th>character</th>\n",
       "      <th>n</th>\n",
       "    </tr>\n",
       "  </thead>\n",
       "  <tbody>\n",
       "    <tr>\n",
       "      <th>1547</th>\n",
       "      <td>Hamlet</td>\n",
       "      <td>1996</td>\n",
       "      <td>Riz Abbasi</td>\n",
       "      <td>actor</td>\n",
       "      <td>Attendant to Claudius</td>\n",
       "      <td>1.0</td>\n",
       "    </tr>\n",
       "    <tr>\n",
       "      <th>88092</th>\n",
       "      <td>Hamlet</td>\n",
       "      <td>1996</td>\n",
       "      <td>Richard Attenborough</td>\n",
       "      <td>actor</td>\n",
       "      <td>English Ambassador</td>\n",
       "      <td>2.0</td>\n",
       "    </tr>\n",
       "    <tr>\n",
       "      <th>145683</th>\n",
       "      <td>Hamlet</td>\n",
       "      <td>1996</td>\n",
       "      <td>Simon Russell Beale</td>\n",
       "      <td>actor</td>\n",
       "      <td>Second Gravedigger</td>\n",
       "      <td>37.0</td>\n",
       "    </tr>\n",
       "    <tr>\n",
       "      <th>196937</th>\n",
       "      <td>Hamlet</td>\n",
       "      <td>1996</td>\n",
       "      <td>David (V) Blair</td>\n",
       "      <td>actor</td>\n",
       "      <td>Attendant to Claudius</td>\n",
       "      <td>3.0</td>\n",
       "    </tr>\n",
       "    <tr>\n",
       "      <th>201517</th>\n",
       "      <td>Hamlet</td>\n",
       "      <td>1996</td>\n",
       "      <td>Brian Blessed</td>\n",
       "      <td>actor</td>\n",
       "      <td>Ghost of Hamlet's Father</td>\n",
       "      <td>4.0</td>\n",
       "    </tr>\n",
       "    <tr>\n",
       "      <th>230146</th>\n",
       "      <td>Hamlet</td>\n",
       "      <td>1996</td>\n",
       "      <td>Christopher Bowles</td>\n",
       "      <td>actor</td>\n",
       "      <td>Cadet in Play</td>\n",
       "      <td>NaN</td>\n",
       "    </tr>\n",
       "    <tr>\n",
       "      <th>238732</th>\n",
       "      <td>Hamlet</td>\n",
       "      <td>1996</td>\n",
       "      <td>Kenneth Branagh</td>\n",
       "      <td>actor</td>\n",
       "      <td>Hamlet</td>\n",
       "      <td>5.0</td>\n",
       "    </tr>\n",
       "    <tr>\n",
       "      <th>250230</th>\n",
       "      <td>Hamlet</td>\n",
       "      <td>1996</td>\n",
       "      <td>Richard Briers</td>\n",
       "      <td>actor</td>\n",
       "      <td>Polonius</td>\n",
       "      <td>6.0</td>\n",
       "    </tr>\n",
       "    <tr>\n",
       "      <th>270007</th>\n",
       "      <td>Hamlet</td>\n",
       "      <td>1996</td>\n",
       "      <td>Michael Bryant</td>\n",
       "      <td>actor</td>\n",
       "      <td>Priest</td>\n",
       "      <td>7.0</td>\n",
       "    </tr>\n",
       "    <tr>\n",
       "      <th>292609</th>\n",
       "      <td>Hamlet</td>\n",
       "      <td>1996</td>\n",
       "      <td>Peter Bygott</td>\n",
       "      <td>actor</td>\n",
       "      <td>Attendant to Claudius</td>\n",
       "      <td>8.0</td>\n",
       "    </tr>\n",
       "    <tr>\n",
       "      <th>315183</th>\n",
       "      <td>Hamlet</td>\n",
       "      <td>1996</td>\n",
       "      <td>Kenneth W Caravan</td>\n",
       "      <td>actor</td>\n",
       "      <td>Laertes Mob</td>\n",
       "      <td>NaN</td>\n",
       "    </tr>\n",
       "    <tr>\n",
       "      <th>458407</th>\n",
       "      <td>Hamlet</td>\n",
       "      <td>1996</td>\n",
       "      <td>Billy Crystal</td>\n",
       "      <td>actor</td>\n",
       "      <td>First Gravedigger</td>\n",
       "      <td>10.0</td>\n",
       "    </tr>\n",
       "    <tr>\n",
       "      <th>474456</th>\n",
       "      <td>Hamlet</td>\n",
       "      <td>1996</td>\n",
       "      <td>Charles Daish</td>\n",
       "      <td>actor</td>\n",
       "      <td>Stage Manager</td>\n",
       "      <td>11.0</td>\n",
       "    </tr>\n",
       "    <tr>\n",
       "      <th>527361</th>\n",
       "      <td>Hamlet</td>\n",
       "      <td>1996</td>\n",
       "      <td>Gérard Depardieu</td>\n",
       "      <td>actor</td>\n",
       "      <td>Reynaldo</td>\n",
       "      <td>13.0</td>\n",
       "    </tr>\n",
       "    <tr>\n",
       "      <th>548010</th>\n",
       "      <td>Hamlet</td>\n",
       "      <td>1996</td>\n",
       "      <td>Reece Dinsdale</td>\n",
       "      <td>actor</td>\n",
       "      <td>Guildenstern</td>\n",
       "      <td>14.0</td>\n",
       "    </tr>\n",
       "    <tr>\n",
       "      <th>553205</th>\n",
       "      <td>Hamlet</td>\n",
       "      <td>1996</td>\n",
       "      <td>Ken Dodd</td>\n",
       "      <td>actor</td>\n",
       "      <td>Yorick</td>\n",
       "      <td>15.0</td>\n",
       "    </tr>\n",
       "    <tr>\n",
       "      <th>601015</th>\n",
       "      <td>Hamlet</td>\n",
       "      <td>1996</td>\n",
       "      <td>Rob Edwards</td>\n",
       "      <td>actor</td>\n",
       "      <td>Lucianus</td>\n",
       "      <td>17.0</td>\n",
       "    </tr>\n",
       "    <tr>\n",
       "      <th>612462</th>\n",
       "      <td>Hamlet</td>\n",
       "      <td>1996</td>\n",
       "      <td>Jimmy Ellis</td>\n",
       "      <td>actor</td>\n",
       "      <td>Old Fortinbras</td>\n",
       "      <td>NaN</td>\n",
       "    </tr>\n",
       "    <tr>\n",
       "      <th>644433</th>\n",
       "      <td>Hamlet</td>\n",
       "      <td>1996</td>\n",
       "      <td>Nicholas Farrell</td>\n",
       "      <td>actor</td>\n",
       "      <td>Horatio</td>\n",
       "      <td>18.0</td>\n",
       "    </tr>\n",
       "    <tr>\n",
       "      <th>648298</th>\n",
       "      <td>Hamlet</td>\n",
       "      <td>1996</td>\n",
       "      <td>Ray Fearon</td>\n",
       "      <td>actor</td>\n",
       "      <td>Francisco</td>\n",
       "      <td>19.0</td>\n",
       "    </tr>\n",
       "    <tr>\n",
       "      <th>756674</th>\n",
       "      <td>Hamlet</td>\n",
       "      <td>1996</td>\n",
       "      <td>John Gielgud</td>\n",
       "      <td>actor</td>\n",
       "      <td>Priam</td>\n",
       "      <td>21.0</td>\n",
       "    </tr>\n",
       "    <tr>\n",
       "      <th>905902</th>\n",
       "      <td>Hamlet</td>\n",
       "      <td>1996</td>\n",
       "      <td>Charlton Heston</td>\n",
       "      <td>actor</td>\n",
       "      <td>Player King</td>\n",
       "      <td>23.0</td>\n",
       "    </tr>\n",
       "    <tr>\n",
       "      <th>982526</th>\n",
       "      <td>Hamlet</td>\n",
       "      <td>1996</td>\n",
       "      <td>Ravil Isyanov</td>\n",
       "      <td>actor</td>\n",
       "      <td>Cornelius</td>\n",
       "      <td>24.0</td>\n",
       "    </tr>\n",
       "    <tr>\n",
       "      <th>989355</th>\n",
       "      <td>Hamlet</td>\n",
       "      <td>1996</td>\n",
       "      <td>Derek Jacobi</td>\n",
       "      <td>actor</td>\n",
       "      <td>Claudius</td>\n",
       "      <td>25.0</td>\n",
       "    </tr>\n",
       "    <tr>\n",
       "      <th>1107240</th>\n",
       "      <td>Hamlet</td>\n",
       "      <td>1996</td>\n",
       "      <td>Jeffery Kissoon</td>\n",
       "      <td>actor</td>\n",
       "      <td>Fortinbras's Captain</td>\n",
       "      <td>27.0</td>\n",
       "    </tr>\n",
       "    <tr>\n",
       "      <th>1204627</th>\n",
       "      <td>Hamlet</td>\n",
       "      <td>1996</td>\n",
       "      <td>Jack Lemmon</td>\n",
       "      <td>actor</td>\n",
       "      <td>Marcellus</td>\n",
       "      <td>29.0</td>\n",
       "    </tr>\n",
       "    <tr>\n",
       "      <th>1281846</th>\n",
       "      <td>Hamlet</td>\n",
       "      <td>1996</td>\n",
       "      <td>Anthony Maddalena</td>\n",
       "      <td>actor</td>\n",
       "      <td>Elsinore Courtier</td>\n",
       "      <td>NaN</td>\n",
       "    </tr>\n",
       "    <tr>\n",
       "      <th>1297265</th>\n",
       "      <td>Hamlet</td>\n",
       "      <td>1996</td>\n",
       "      <td>Michael Maloney</td>\n",
       "      <td>actor</td>\n",
       "      <td>Laertes</td>\n",
       "      <td>31.0</td>\n",
       "    </tr>\n",
       "    <tr>\n",
       "      <th>1362729</th>\n",
       "      <td>Hamlet</td>\n",
       "      <td>1996</td>\n",
       "      <td>Ian McElhinney</td>\n",
       "      <td>actor</td>\n",
       "      <td>Barnardo</td>\n",
       "      <td>30.0</td>\n",
       "    </tr>\n",
       "    <tr>\n",
       "      <th>1417307</th>\n",
       "      <td>Hamlet</td>\n",
       "      <td>1996</td>\n",
       "      <td>John Mills</td>\n",
       "      <td>actor</td>\n",
       "      <td>Old Norway</td>\n",
       "      <td>33.0</td>\n",
       "    </tr>\n",
       "    <tr>\n",
       "      <th>1423703</th>\n",
       "      <td>Hamlet</td>\n",
       "      <td>1996</td>\n",
       "      <td>Jimi Mistry</td>\n",
       "      <td>actor</td>\n",
       "      <td>Sailor Two</td>\n",
       "      <td>34.0</td>\n",
       "    </tr>\n",
       "    <tr>\n",
       "      <th>1453364</th>\n",
       "      <td>Hamlet</td>\n",
       "      <td>1996</td>\n",
       "      <td>Frank (II) Morgan</td>\n",
       "      <td>actor</td>\n",
       "      <td>Pyrrhus</td>\n",
       "      <td>NaN</td>\n",
       "    </tr>\n",
       "    <tr>\n",
       "      <th>1866916</th>\n",
       "      <td>Hamlet</td>\n",
       "      <td>1996</td>\n",
       "      <td>Andrew Schofield</td>\n",
       "      <td>actor</td>\n",
       "      <td>Young Lord</td>\n",
       "      <td>38.0</td>\n",
       "    </tr>\n",
       "    <tr>\n",
       "      <th>1878415</th>\n",
       "      <td>Hamlet</td>\n",
       "      <td>1996</td>\n",
       "      <td>Orlando Seale</td>\n",
       "      <td>actor</td>\n",
       "      <td>Boatman</td>\n",
       "      <td>NaN</td>\n",
       "    </tr>\n",
       "    <tr>\n",
       "      <th>1892140</th>\n",
       "      <td>Hamlet</td>\n",
       "      <td>1996</td>\n",
       "      <td>Rufus Sewell</td>\n",
       "      <td>actor</td>\n",
       "      <td>Fortinbras</td>\n",
       "      <td>39.0</td>\n",
       "    </tr>\n",
       "    <tr>\n",
       "      <th>1968858</th>\n",
       "      <td>Hamlet</td>\n",
       "      <td>1996</td>\n",
       "      <td>Timothy Spall</td>\n",
       "      <td>actor</td>\n",
       "      <td>Rosencrantz</td>\n",
       "      <td>40.0</td>\n",
       "    </tr>\n",
       "    <tr>\n",
       "      <th>1971932</th>\n",
       "      <td>Hamlet</td>\n",
       "      <td>1996</td>\n",
       "      <td>John Spencer-Churchill</td>\n",
       "      <td>actor</td>\n",
       "      <td>Fortinbras's Captain</td>\n",
       "      <td>32.0</td>\n",
       "    </tr>\n",
       "    <tr>\n",
       "      <th>2033003</th>\n",
       "      <td>Hamlet</td>\n",
       "      <td>1996</td>\n",
       "      <td>Thomas Szekeres</td>\n",
       "      <td>actor</td>\n",
       "      <td>Young Hamlet</td>\n",
       "      <td>41.0</td>\n",
       "    </tr>\n",
       "    <tr>\n",
       "      <th>2067693</th>\n",
       "      <td>Hamlet</td>\n",
       "      <td>1996</td>\n",
       "      <td>Ben Thom</td>\n",
       "      <td>actor</td>\n",
       "      <td>First Player</td>\n",
       "      <td>42.0</td>\n",
       "    </tr>\n",
       "    <tr>\n",
       "      <th>2200283</th>\n",
       "      <td>Hamlet</td>\n",
       "      <td>1996</td>\n",
       "      <td>Don Warrington</td>\n",
       "      <td>actor</td>\n",
       "      <td>Voltimand</td>\n",
       "      <td>43.0</td>\n",
       "    </tr>\n",
       "    <tr>\n",
       "      <th>2244723</th>\n",
       "      <td>Hamlet</td>\n",
       "      <td>1996</td>\n",
       "      <td>Robin Williams</td>\n",
       "      <td>actor</td>\n",
       "      <td>Osric</td>\n",
       "      <td>45.0</td>\n",
       "    </tr>\n",
       "    <tr>\n",
       "      <th>2287546</th>\n",
       "      <td>Hamlet</td>\n",
       "      <td>1996</td>\n",
       "      <td>David Yip</td>\n",
       "      <td>actor</td>\n",
       "      <td>Sailor One</td>\n",
       "      <td>47.0</td>\n",
       "    </tr>\n",
       "    <tr>\n",
       "      <th>2295096</th>\n",
       "      <td>Hamlet</td>\n",
       "      <td>1996</td>\n",
       "      <td>Jimmy Yuill</td>\n",
       "      <td>actor</td>\n",
       "      <td>Alexander</td>\n",
       "      <td>NaN</td>\n",
       "    </tr>\n",
       "    <tr>\n",
       "      <th>2502297</th>\n",
       "      <td>Hamlet</td>\n",
       "      <td>1996</td>\n",
       "      <td>Julie Christie</td>\n",
       "      <td>actress</td>\n",
       "      <td>Gertrude</td>\n",
       "      <td>9.0</td>\n",
       "    </tr>\n",
       "    <tr>\n",
       "      <th>2570307</th>\n",
       "      <td>Hamlet</td>\n",
       "      <td>1996</td>\n",
       "      <td>Judi Dench</td>\n",
       "      <td>actress</td>\n",
       "      <td>Hecuba</td>\n",
       "      <td>12.0</td>\n",
       "    </tr>\n",
       "    <tr>\n",
       "      <th>2589800</th>\n",
       "      <td>Hamlet</td>\n",
       "      <td>1996</td>\n",
       "      <td>Angela Douglas</td>\n",
       "      <td>actress</td>\n",
       "      <td>Attendant to Gertrude</td>\n",
       "      <td>16.0</td>\n",
       "    </tr>\n",
       "    <tr>\n",
       "      <th>2683383</th>\n",
       "      <td>Hamlet</td>\n",
       "      <td>1996</td>\n",
       "      <td>Yvonne Gidden</td>\n",
       "      <td>actress</td>\n",
       "      <td>Doctor</td>\n",
       "      <td>20.0</td>\n",
       "    </tr>\n",
       "    <tr>\n",
       "      <th>2736899</th>\n",
       "      <td>Hamlet</td>\n",
       "      <td>1996</td>\n",
       "      <td>Rosemary Harris</td>\n",
       "      <td>actress</td>\n",
       "      <td>Player Queen</td>\n",
       "      <td>22.0</td>\n",
       "    </tr>\n",
       "    <tr>\n",
       "      <th>2844532</th>\n",
       "      <td>Hamlet</td>\n",
       "      <td>1996</td>\n",
       "      <td>Rowena King</td>\n",
       "      <td>actress</td>\n",
       "      <td>Attendant to Gertrude</td>\n",
       "      <td>26.0</td>\n",
       "    </tr>\n",
       "    <tr>\n",
       "      <th>2875820</th>\n",
       "      <td>Hamlet</td>\n",
       "      <td>1996</td>\n",
       "      <td>Sarah Lam</td>\n",
       "      <td>actress</td>\n",
       "      <td>Attendant to Gertrude</td>\n",
       "      <td>28.0</td>\n",
       "    </tr>\n",
       "    <tr>\n",
       "      <th>3141817</th>\n",
       "      <td>Hamlet</td>\n",
       "      <td>1996</td>\n",
       "      <td>Sian Radinger</td>\n",
       "      <td>actress</td>\n",
       "      <td>Prologue</td>\n",
       "      <td>35.0</td>\n",
       "    </tr>\n",
       "    <tr>\n",
       "      <th>3146422</th>\n",
       "      <td>Hamlet</td>\n",
       "      <td>1996</td>\n",
       "      <td>Melanie Ramsay</td>\n",
       "      <td>actress</td>\n",
       "      <td>Prostitute</td>\n",
       "      <td>NaN</td>\n",
       "    </tr>\n",
       "    <tr>\n",
       "      <th>3391416</th>\n",
       "      <td>Hamlet</td>\n",
       "      <td>1996</td>\n",
       "      <td>Perdita Weeks</td>\n",
       "      <td>actress</td>\n",
       "      <td>Second Player</td>\n",
       "      <td>44.0</td>\n",
       "    </tr>\n",
       "    <tr>\n",
       "      <th>3411264</th>\n",
       "      <td>Hamlet</td>\n",
       "      <td>1996</td>\n",
       "      <td>Kate Winslet</td>\n",
       "      <td>actress</td>\n",
       "      <td>Ophelia</td>\n",
       "      <td>46.0</td>\n",
       "    </tr>\n",
       "  </tbody>\n",
       "</table>\n",
       "</div>"
      ],
      "text/plain": [
       "          title  year                    name     type  \\\n",
       "1547     Hamlet  1996              Riz Abbasi    actor   \n",
       "88092    Hamlet  1996    Richard Attenborough    actor   \n",
       "145683   Hamlet  1996     Simon Russell Beale    actor   \n",
       "196937   Hamlet  1996         David (V) Blair    actor   \n",
       "201517   Hamlet  1996           Brian Blessed    actor   \n",
       "230146   Hamlet  1996      Christopher Bowles    actor   \n",
       "238732   Hamlet  1996         Kenneth Branagh    actor   \n",
       "250230   Hamlet  1996          Richard Briers    actor   \n",
       "270007   Hamlet  1996          Michael Bryant    actor   \n",
       "292609   Hamlet  1996            Peter Bygott    actor   \n",
       "315183   Hamlet  1996       Kenneth W Caravan    actor   \n",
       "458407   Hamlet  1996           Billy Crystal    actor   \n",
       "474456   Hamlet  1996           Charles Daish    actor   \n",
       "527361   Hamlet  1996        Gérard Depardieu    actor   \n",
       "548010   Hamlet  1996          Reece Dinsdale    actor   \n",
       "553205   Hamlet  1996                Ken Dodd    actor   \n",
       "601015   Hamlet  1996             Rob Edwards    actor   \n",
       "612462   Hamlet  1996             Jimmy Ellis    actor   \n",
       "644433   Hamlet  1996        Nicholas Farrell    actor   \n",
       "648298   Hamlet  1996              Ray Fearon    actor   \n",
       "756674   Hamlet  1996            John Gielgud    actor   \n",
       "905902   Hamlet  1996         Charlton Heston    actor   \n",
       "982526   Hamlet  1996           Ravil Isyanov    actor   \n",
       "989355   Hamlet  1996            Derek Jacobi    actor   \n",
       "1107240  Hamlet  1996         Jeffery Kissoon    actor   \n",
       "1204627  Hamlet  1996             Jack Lemmon    actor   \n",
       "1281846  Hamlet  1996       Anthony Maddalena    actor   \n",
       "1297265  Hamlet  1996         Michael Maloney    actor   \n",
       "1362729  Hamlet  1996          Ian McElhinney    actor   \n",
       "1417307  Hamlet  1996              John Mills    actor   \n",
       "1423703  Hamlet  1996             Jimi Mistry    actor   \n",
       "1453364  Hamlet  1996       Frank (II) Morgan    actor   \n",
       "1866916  Hamlet  1996        Andrew Schofield    actor   \n",
       "1878415  Hamlet  1996           Orlando Seale    actor   \n",
       "1892140  Hamlet  1996            Rufus Sewell    actor   \n",
       "1968858  Hamlet  1996           Timothy Spall    actor   \n",
       "1971932  Hamlet  1996  John Spencer-Churchill    actor   \n",
       "2033003  Hamlet  1996         Thomas Szekeres    actor   \n",
       "2067693  Hamlet  1996                Ben Thom    actor   \n",
       "2200283  Hamlet  1996          Don Warrington    actor   \n",
       "2244723  Hamlet  1996          Robin Williams    actor   \n",
       "2287546  Hamlet  1996               David Yip    actor   \n",
       "2295096  Hamlet  1996             Jimmy Yuill    actor   \n",
       "2502297  Hamlet  1996          Julie Christie  actress   \n",
       "2570307  Hamlet  1996              Judi Dench  actress   \n",
       "2589800  Hamlet  1996          Angela Douglas  actress   \n",
       "2683383  Hamlet  1996           Yvonne Gidden  actress   \n",
       "2736899  Hamlet  1996         Rosemary Harris  actress   \n",
       "2844532  Hamlet  1996             Rowena King  actress   \n",
       "2875820  Hamlet  1996               Sarah Lam  actress   \n",
       "3141817  Hamlet  1996           Sian Radinger  actress   \n",
       "3146422  Hamlet  1996          Melanie Ramsay  actress   \n",
       "3391416  Hamlet  1996           Perdita Weeks  actress   \n",
       "3411264  Hamlet  1996            Kate Winslet  actress   \n",
       "\n",
       "                        character     n  \n",
       "1547        Attendant to Claudius   1.0  \n",
       "88092          English Ambassador   2.0  \n",
       "145683         Second Gravedigger  37.0  \n",
       "196937      Attendant to Claudius   3.0  \n",
       "201517   Ghost of Hamlet's Father   4.0  \n",
       "230146              Cadet in Play   NaN  \n",
       "238732                     Hamlet   5.0  \n",
       "250230                   Polonius   6.0  \n",
       "270007                     Priest   7.0  \n",
       "292609      Attendant to Claudius   8.0  \n",
       "315183                Laertes Mob   NaN  \n",
       "458407          First Gravedigger  10.0  \n",
       "474456              Stage Manager  11.0  \n",
       "527361                   Reynaldo  13.0  \n",
       "548010               Guildenstern  14.0  \n",
       "553205                     Yorick  15.0  \n",
       "601015                   Lucianus  17.0  \n",
       "612462             Old Fortinbras   NaN  \n",
       "644433                    Horatio  18.0  \n",
       "648298                  Francisco  19.0  \n",
       "756674                      Priam  21.0  \n",
       "905902                Player King  23.0  \n",
       "982526                  Cornelius  24.0  \n",
       "989355                   Claudius  25.0  \n",
       "1107240      Fortinbras's Captain  27.0  \n",
       "1204627                 Marcellus  29.0  \n",
       "1281846         Elsinore Courtier   NaN  \n",
       "1297265                   Laertes  31.0  \n",
       "1362729                  Barnardo  30.0  \n",
       "1417307                Old Norway  33.0  \n",
       "1423703                Sailor Two  34.0  \n",
       "1453364                   Pyrrhus   NaN  \n",
       "1866916                Young Lord  38.0  \n",
       "1878415                   Boatman   NaN  \n",
       "1892140                Fortinbras  39.0  \n",
       "1968858               Rosencrantz  40.0  \n",
       "1971932      Fortinbras's Captain  32.0  \n",
       "2033003              Young Hamlet  41.0  \n",
       "2067693              First Player  42.0  \n",
       "2200283                 Voltimand  43.0  \n",
       "2244723                     Osric  45.0  \n",
       "2287546                Sailor One  47.0  \n",
       "2295096                 Alexander   NaN  \n",
       "2502297                  Gertrude   9.0  \n",
       "2570307                    Hecuba  12.0  \n",
       "2589800     Attendant to Gertrude  16.0  \n",
       "2683383                    Doctor  20.0  \n",
       "2736899              Player Queen  22.0  \n",
       "2844532     Attendant to Gertrude  26.0  \n",
       "2875820     Attendant to Gertrude  28.0  \n",
       "3141817                  Prologue  35.0  \n",
       "3146422                Prostitute   NaN  \n",
       "3391416             Second Player  44.0  \n",
       "3411264                   Ophelia  46.0  "
      ]
     },
     "execution_count": 145,
     "metadata": {},
     "output_type": "execute_result"
    }
   ],
   "source": [
    "c = cast\n",
    "((c[(c.title == 'Hamlet') & (c.year == 1996) ]))"
   ]
  },
  {
   "cell_type": "code",
   "execution_count": 138,
   "metadata": {},
   "outputs": [
    {
     "data": {
      "text/html": [
       "<div>\n",
       "<style scoped>\n",
       "    .dataframe tbody tr th:only-of-type {\n",
       "        vertical-align: middle;\n",
       "    }\n",
       "\n",
       "    .dataframe tbody tr th {\n",
       "        vertical-align: top;\n",
       "    }\n",
       "\n",
       "    .dataframe thead th {\n",
       "        text-align: right;\n",
       "    }\n",
       "</style>\n",
       "<table border=\"1\" class=\"dataframe\">\n",
       "  <thead>\n",
       "    <tr style=\"text-align: right;\">\n",
       "      <th></th>\n",
       "      <th>title</th>\n",
       "      <th>year</th>\n",
       "      <th>name</th>\n",
       "      <th>type</th>\n",
       "      <th>character</th>\n",
       "      <th>n</th>\n",
       "    </tr>\n",
       "  </thead>\n",
       "  <tbody>\n",
       "    <tr>\n",
       "      <th>0</th>\n",
       "      <td>Closet Monster</td>\n",
       "      <td>2015</td>\n",
       "      <td>Buffy #1</td>\n",
       "      <td>actor</td>\n",
       "      <td>Buffy 4</td>\n",
       "      <td>31.0</td>\n",
       "    </tr>\n",
       "    <tr>\n",
       "      <th>1</th>\n",
       "      <td>Suuri illusioni</td>\n",
       "      <td>1985</td>\n",
       "      <td>Homo $</td>\n",
       "      <td>actor</td>\n",
       "      <td>Guests</td>\n",
       "      <td>22.0</td>\n",
       "    </tr>\n",
       "    <tr>\n",
       "      <th>2</th>\n",
       "      <td>Battle of the Sexes</td>\n",
       "      <td>2017</td>\n",
       "      <td>$hutter</td>\n",
       "      <td>actor</td>\n",
       "      <td>Bobby Riggs Fan</td>\n",
       "      <td>10.0</td>\n",
       "    </tr>\n",
       "    <tr>\n",
       "      <th>3</th>\n",
       "      <td>Secret in Their Eyes</td>\n",
       "      <td>2015</td>\n",
       "      <td>$hutter</td>\n",
       "      <td>actor</td>\n",
       "      <td>2002 Dodger Fan</td>\n",
       "      <td>NaN</td>\n",
       "    </tr>\n",
       "    <tr>\n",
       "      <th>4</th>\n",
       "      <td>Steve Jobs</td>\n",
       "      <td>2015</td>\n",
       "      <td>$hutter</td>\n",
       "      <td>actor</td>\n",
       "      <td>1988 Opera House Patron</td>\n",
       "      <td>NaN</td>\n",
       "    </tr>\n",
       "    <tr>\n",
       "      <th>...</th>\n",
       "      <td>...</td>\n",
       "      <td>...</td>\n",
       "      <td>...</td>\n",
       "      <td>...</td>\n",
       "      <td>...</td>\n",
       "      <td>...</td>\n",
       "    </tr>\n",
       "    <tr>\n",
       "      <th>3442897</th>\n",
       "      <td>Foxtrot</td>\n",
       "      <td>1988</td>\n",
       "      <td>Lilja Þórisdóttir</td>\n",
       "      <td>actress</td>\n",
       "      <td>Dóra</td>\n",
       "      <td>24.0</td>\n",
       "    </tr>\n",
       "    <tr>\n",
       "      <th>3442898</th>\n",
       "      <td>Niceland (Population. 1.000.002)</td>\n",
       "      <td>2004</td>\n",
       "      <td>Sigríður Jóna Þórisdóttir</td>\n",
       "      <td>actress</td>\n",
       "      <td>Woman in Bus</td>\n",
       "      <td>26.0</td>\n",
       "    </tr>\n",
       "    <tr>\n",
       "      <th>3442899</th>\n",
       "      <td>Skammdegi</td>\n",
       "      <td>1985</td>\n",
       "      <td>Dalla Þórðardóttir</td>\n",
       "      <td>actress</td>\n",
       "      <td>Hjúkrunarkona</td>\n",
       "      <td>9.0</td>\n",
       "    </tr>\n",
       "    <tr>\n",
       "      <th>3442900</th>\n",
       "      <td>U.S.S.S.S...</td>\n",
       "      <td>2003</td>\n",
       "      <td>Kristín Andrea Þórðardóttir</td>\n",
       "      <td>actress</td>\n",
       "      <td>Afgr.dama á bensínstöð</td>\n",
       "      <td>17.0</td>\n",
       "    </tr>\n",
       "    <tr>\n",
       "      <th>3442901</th>\n",
       "      <td>Bye Bye Blue Bird</td>\n",
       "      <td>1999</td>\n",
       "      <td>Rosa á Rógvu</td>\n",
       "      <td>actress</td>\n",
       "      <td>Pensionatværtinde</td>\n",
       "      <td>NaN</td>\n",
       "    </tr>\n",
       "  </tbody>\n",
       "</table>\n",
       "<p>3442902 rows × 6 columns</p>\n",
       "</div>"
      ],
      "text/plain": [
       "                                    title  year                         name  \\\n",
       "0                          Closet Monster  2015                     Buffy #1   \n",
       "1                         Suuri illusioni  1985                       Homo $   \n",
       "2                     Battle of the Sexes  2017                      $hutter   \n",
       "3                    Secret in Their Eyes  2015                      $hutter   \n",
       "4                              Steve Jobs  2015                      $hutter   \n",
       "...                                   ...   ...                          ...   \n",
       "3442897                           Foxtrot  1988            Lilja Þórisdóttir   \n",
       "3442898  Niceland (Population. 1.000.002)  2004    Sigríður Jóna Þórisdóttir   \n",
       "3442899                         Skammdegi  1985           Dalla Þórðardóttir   \n",
       "3442900                      U.S.S.S.S...  2003  Kristín Andrea Þórðardóttir   \n",
       "3442901                 Bye Bye Blue Bird  1999                 Rosa á Rógvu   \n",
       "\n",
       "            type                character     n  \n",
       "0          actor                  Buffy 4  31.0  \n",
       "1          actor                   Guests  22.0  \n",
       "2          actor          Bobby Riggs Fan  10.0  \n",
       "3          actor          2002 Dodger Fan   NaN  \n",
       "4          actor  1988 Opera House Patron   NaN  \n",
       "...          ...                      ...   ...  \n",
       "3442897  actress                     Dóra  24.0  \n",
       "3442898  actress             Woman in Bus  26.0  \n",
       "3442899  actress            Hjúkrunarkona   9.0  \n",
       "3442900  actress   Afgr.dama á bensínstöð  17.0  \n",
       "3442901  actress        Pensionatværtinde   NaN  \n",
       "\n",
       "[3442902 rows x 6 columns]"
      ]
     },
     "execution_count": 138,
     "metadata": {},
     "output_type": "execute_result"
    }
   ],
   "source": [
    "cast"
   ]
  },
  {
   "cell_type": "markdown",
   "metadata": {
    "collapsed": true,
    "jupyter": {
     "outputs_hidden": true
    }
   },
   "source": [
    "### How many \"Hamlet\" roles have been listed in all film credits through history?"
   ]
  },
  {
   "cell_type": "code",
   "execution_count": null,
   "metadata": {
    "collapsed": true,
    "jupyter": {
     "outputs_hidden": true
    }
   },
   "outputs": [],
   "source": []
  },
  {
   "cell_type": "code",
   "execution_count": null,
   "metadata": {
    "collapsed": true,
    "jupyter": {
     "outputs_hidden": true
    }
   },
   "outputs": [],
   "source": []
  },
  {
   "cell_type": "markdown",
   "metadata": {
    "collapsed": true,
    "jupyter": {
     "outputs_hidden": true
    }
   },
   "source": [
    "### How many people have played an \"Ophelia\"?"
   ]
  },
  {
   "cell_type": "code",
   "execution_count": null,
   "metadata": {
    "collapsed": true,
    "jupyter": {
     "outputs_hidden": true
    }
   },
   "outputs": [],
   "source": []
  },
  {
   "cell_type": "code",
   "execution_count": null,
   "metadata": {
    "collapsed": true,
    "jupyter": {
     "outputs_hidden": true
    }
   },
   "outputs": [],
   "source": []
  },
  {
   "cell_type": "markdown",
   "metadata": {
    "collapsed": true,
    "jupyter": {
     "outputs_hidden": true
    }
   },
   "source": [
    "### How many people have played a role called \"The Dude\"?"
   ]
  },
  {
   "cell_type": "code",
   "execution_count": null,
   "metadata": {
    "collapsed": true,
    "jupyter": {
     "outputs_hidden": true
    }
   },
   "outputs": [],
   "source": []
  },
  {
   "cell_type": "code",
   "execution_count": null,
   "metadata": {
    "collapsed": true,
    "jupyter": {
     "outputs_hidden": true
    }
   },
   "outputs": [],
   "source": []
  },
  {
   "cell_type": "markdown",
   "metadata": {
    "collapsed": true,
    "jupyter": {
     "outputs_hidden": true
    }
   },
   "source": [
    "### How many people have played a role called \"The Stranger\"?"
   ]
  },
  {
   "cell_type": "code",
   "execution_count": null,
   "metadata": {
    "collapsed": true,
    "jupyter": {
     "outputs_hidden": true
    }
   },
   "outputs": [],
   "source": []
  },
  {
   "cell_type": "code",
   "execution_count": null,
   "metadata": {
    "collapsed": true,
    "jupyter": {
     "outputs_hidden": true
    }
   },
   "outputs": [],
   "source": []
  },
  {
   "cell_type": "markdown",
   "metadata": {
    "collapsed": true,
    "jupyter": {
     "outputs_hidden": true
    }
   },
   "source": [
    "### How many roles has Sidney Poitier played throughout his career?"
   ]
  },
  {
   "cell_type": "code",
   "execution_count": null,
   "metadata": {
    "collapsed": true,
    "jupyter": {
     "outputs_hidden": true
    }
   },
   "outputs": [],
   "source": []
  },
  {
   "cell_type": "code",
   "execution_count": null,
   "metadata": {
    "collapsed": true,
    "jupyter": {
     "outputs_hidden": true
    }
   },
   "outputs": [],
   "source": []
  },
  {
   "cell_type": "markdown",
   "metadata": {
    "collapsed": true,
    "jupyter": {
     "outputs_hidden": true
    }
   },
   "source": [
    "### How many roles has Judi Dench played?"
   ]
  },
  {
   "cell_type": "code",
   "execution_count": null,
   "metadata": {
    "collapsed": true,
    "jupyter": {
     "outputs_hidden": true
    }
   },
   "outputs": [],
   "source": []
  },
  {
   "cell_type": "code",
   "execution_count": null,
   "metadata": {
    "collapsed": true,
    "jupyter": {
     "outputs_hidden": true
    }
   },
   "outputs": [],
   "source": []
  },
  {
   "cell_type": "markdown",
   "metadata": {
    "collapsed": true,
    "jupyter": {
     "outputs_hidden": true
    }
   },
   "source": [
    "### List the supporting roles (having n=2) played by Cary Grant in the 1940s, in order by year."
   ]
  },
  {
   "cell_type": "code",
   "execution_count": null,
   "metadata": {
    "collapsed": true,
    "jupyter": {
     "outputs_hidden": true
    }
   },
   "outputs": [],
   "source": []
  },
  {
   "cell_type": "code",
   "execution_count": null,
   "metadata": {
    "collapsed": true,
    "jupyter": {
     "outputs_hidden": true
    }
   },
   "outputs": [],
   "source": []
  },
  {
   "cell_type": "markdown",
   "metadata": {
    "collapsed": true,
    "jupyter": {
     "outputs_hidden": true
    }
   },
   "source": [
    "### List the leading roles that Cary Grant played in the 1940s in order by year."
   ]
  },
  {
   "cell_type": "code",
   "execution_count": null,
   "metadata": {
    "collapsed": true,
    "jupyter": {
     "outputs_hidden": true
    }
   },
   "outputs": [],
   "source": []
  },
  {
   "cell_type": "code",
   "execution_count": null,
   "metadata": {
    "collapsed": true,
    "jupyter": {
     "outputs_hidden": true
    }
   },
   "outputs": [],
   "source": []
  },
  {
   "cell_type": "markdown",
   "metadata": {
    "collapsed": true,
    "jupyter": {
     "outputs_hidden": true
    }
   },
   "source": [
    "### How many roles were available for actors in the 1950s?"
   ]
  },
  {
   "cell_type": "code",
   "execution_count": null,
   "metadata": {
    "collapsed": true,
    "jupyter": {
     "outputs_hidden": true
    }
   },
   "outputs": [],
   "source": []
  },
  {
   "cell_type": "code",
   "execution_count": null,
   "metadata": {
    "collapsed": true,
    "jupyter": {
     "outputs_hidden": true
    }
   },
   "outputs": [],
   "source": []
  },
  {
   "cell_type": "markdown",
   "metadata": {
    "collapsed": true,
    "jupyter": {
     "outputs_hidden": true
    }
   },
   "source": [
    "### How many roles were available for actresses in the 1950s?"
   ]
  },
  {
   "cell_type": "code",
   "execution_count": null,
   "metadata": {
    "collapsed": true,
    "jupyter": {
     "outputs_hidden": true
    }
   },
   "outputs": [],
   "source": []
  },
  {
   "cell_type": "code",
   "execution_count": null,
   "metadata": {
    "collapsed": true,
    "jupyter": {
     "outputs_hidden": true
    }
   },
   "outputs": [],
   "source": []
  },
  {
   "cell_type": "markdown",
   "metadata": {
    "collapsed": true,
    "jupyter": {
     "outputs_hidden": true
    }
   },
   "source": [
    "### How many leading roles (n=1) were available from the beginning of film history through 1980?"
   ]
  },
  {
   "cell_type": "code",
   "execution_count": null,
   "metadata": {
    "collapsed": true,
    "jupyter": {
     "outputs_hidden": true
    }
   },
   "outputs": [],
   "source": []
  },
  {
   "cell_type": "code",
   "execution_count": null,
   "metadata": {
    "collapsed": true,
    "jupyter": {
     "outputs_hidden": true
    }
   },
   "outputs": [],
   "source": []
  },
  {
   "cell_type": "markdown",
   "metadata": {
    "collapsed": true,
    "jupyter": {
     "outputs_hidden": true
    }
   },
   "source": [
    "### How many non-leading roles were available through from the beginning of film history through 1980?"
   ]
  },
  {
   "cell_type": "code",
   "execution_count": null,
   "metadata": {
    "collapsed": true,
    "jupyter": {
     "outputs_hidden": true
    }
   },
   "outputs": [],
   "source": []
  },
  {
   "cell_type": "code",
   "execution_count": null,
   "metadata": {
    "collapsed": true,
    "jupyter": {
     "outputs_hidden": true
    }
   },
   "outputs": [],
   "source": []
  },
  {
   "cell_type": "markdown",
   "metadata": {
    "collapsed": true,
    "jupyter": {
     "outputs_hidden": true
    }
   },
   "source": [
    "### How many roles through 1980 were minor enough that they did not warrant a numeric \"n\" rank?"
   ]
  },
  {
   "cell_type": "code",
   "execution_count": null,
   "metadata": {
    "collapsed": true,
    "jupyter": {
     "outputs_hidden": true
    }
   },
   "outputs": [],
   "source": []
  },
  {
   "cell_type": "code",
   "execution_count": null,
   "metadata": {
    "collapsed": true,
    "jupyter": {
     "outputs_hidden": true
    }
   },
   "outputs": [],
   "source": []
  },
  {
   "cell_type": "markdown",
   "metadata": {},
   "source": []
  },
  {
   "cell_type": "code",
   "execution_count": null,
   "metadata": {},
   "outputs": [],
   "source": []
  },
  {
   "cell_type": "code",
   "execution_count": null,
   "metadata": {},
   "outputs": [],
   "source": []
  },
  {
   "cell_type": "code",
   "execution_count": null,
   "metadata": {},
   "outputs": [],
   "source": []
  }
 ],
 "metadata": {
  "kernelspec": {
   "display_name": "Python 3 (ipykernel)",
   "language": "python",
   "name": "python3"
  },
  "language_info": {
   "codemirror_mode": {
    "name": "ipython",
    "version": 3
   },
   "file_extension": ".py",
   "mimetype": "text/x-python",
   "name": "python",
   "nbconvert_exporter": "python",
   "pygments_lexer": "ipython3",
   "version": "3.12.5"
  }
 },
 "nbformat": 4,
 "nbformat_minor": 4
}
